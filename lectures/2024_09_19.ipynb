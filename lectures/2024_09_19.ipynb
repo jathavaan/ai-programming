﻿{
 "cells": [
  {
   "metadata": {
    "ExecuteTime": {
     "end_time": "2024-09-19T06:50:55.435995Z",
     "start_time": "2024-09-19T06:50:55.430352Z"
    }
   },
   "cell_type": "code",
   "source": "import numpy as np",
   "id": "e714d07219a8e628",
   "outputs": [],
   "execution_count": 48
  },
  {
   "metadata": {},
   "cell_type": "markdown",
   "source": "",
   "id": "88b4bb9bbdf45a8"
  },
  {
   "metadata": {
    "ExecuteTime": {
     "end_time": "2024-09-19T06:50:55.529709Z",
     "start_time": "2024-09-19T06:50:55.525109Z"
    }
   },
   "cell_type": "code",
   "source": [
    "# Constants\n",
    "SEED = 42\n",
    "EPOCHS = 100_000"
   ],
   "id": "fc7ad2c2b94880ac",
   "outputs": [],
   "execution_count": 49
  },
  {
   "cell_type": "code",
   "id": "initial_id",
   "metadata": {
    "collapsed": true,
    "ExecuteTime": {
     "end_time": "2024-09-19T06:50:55.543775Z",
     "start_time": "2024-09-19T06:50:55.531717Z"
    }
   },
   "source": [
    "feature_set: np.ndarray = np.array([[1, 1, 1], [0, 0, 1], [1, 0, 0], [0, 1, 1], [1, 1, 0]])\n",
    "labels: np.ndarray = np.array([[1, 0, 0, 1, 1]])\n",
    "labels = labels.reshape(5, 1)"
   ],
   "outputs": [],
   "execution_count": 50
  },
  {
   "metadata": {
    "ExecuteTime": {
     "end_time": "2024-09-19T06:50:55.574686Z",
     "start_time": "2024-09-19T06:50:55.569226Z"
    }
   },
   "cell_type": "code",
   "source": [
    "np.random.seed(SEED)\n",
    "weights: np.ndarray = np.random.rand(3, 1)\n",
    "bias: float = np.random.rand(1)\n",
    "lr: float = 0.005"
   ],
   "id": "621ec280c374db20",
   "outputs": [],
   "execution_count": 51
  },
  {
   "metadata": {
    "ExecuteTime": {
     "end_time": "2024-09-19T06:50:55.596239Z",
     "start_time": "2024-09-19T06:50:55.590694Z"
    }
   },
   "cell_type": "code",
   "source": [
    "def sigmoid(x: np.ndarray) -> np.ndarray:\n",
    "    return 1 / (1 + np.exp(-x))\n",
    "\n",
    "\n",
    "def sigmoid_der(x: np.ndarray) -> np.ndarray:\n",
    "    return sigmoid(x) * (1 - sigmoid(x))"
   ],
   "id": "17482d9dd106a26f",
   "outputs": [],
   "execution_count": 52
  },
  {
   "metadata": {
    "ExecuteTime": {
     "end_time": "2024-09-19T06:51:00.076300Z",
     "start_time": "2024-09-19T06:50:55.598251Z"
    }
   },
   "cell_type": "code",
   "source": [
    "for epoch in range(EPOCHS):\n",
    "    inputs = feature_set\n",
    "    XW = np.dot(feature_set, weights) + bias\n",
    "    z = sigmoid(XW)\n",
    "    error = z - labels\n",
    "\n",
    "    dcost_dpred = error\n",
    "    dpred_dz = sigmoid_der(z)\n",
    "    z_delta = dcost_dpred * dpred_dz\n",
    "\n",
    "    inputs = feature_set.T\n",
    "    weights -= lr * np.dot(inputs, z_delta)\n",
    "    for num in z_delta:\n",
    "        bias -= lr * num"
   ],
   "id": "1a6c5d2d75cce802",
   "outputs": [],
   "execution_count": 53
  },
  {
   "metadata": {
    "ExecuteTime": {
     "end_time": "2024-09-19T06:51:00.084133Z",
     "start_time": "2024-09-19T06:51:00.077121Z"
    }
   },
   "cell_type": "code",
   "source": [
    "for i, student in enumerate(feature_set):\n",
    "    single_point = np.array(student)\n",
    "    result = sigmoid(np.dot(single_point, weights) + bias)\n",
    "    print(f\"Student {i + 1}. {result}\")"
   ],
   "id": "3084a4a4a8e4a6cd",
   "outputs": [
    {
     "name": "stdout",
     "output_type": "stream",
     "text": [
      "Student 1. [0.99162855]\n",
      "Student 2. [0.01207436]\n",
      "Student 3. [0.01207277]\n",
      "Student 4. [0.99373123]\n",
      "Student 5. [0.9937304]\n"
     ]
    }
   ],
   "execution_count": 54
  }
 ],
 "metadata": {
  "kernelspec": {
   "display_name": "Python 3",
   "language": "python",
   "name": "python3"
  },
  "language_info": {
   "codemirror_mode": {
    "name": "ipython",
    "version": 2
   },
   "file_extension": ".py",
   "mimetype": "text/x-python",
   "name": "python",
   "nbconvert_exporter": "python",
   "pygments_lexer": "ipython2",
   "version": "2.7.6"
  }
 },
 "nbformat": 4,
 "nbformat_minor": 5
}
