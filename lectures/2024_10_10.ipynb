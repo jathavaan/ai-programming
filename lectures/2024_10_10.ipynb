{
 "nbformat": 4,
 "nbformat_minor": 0,
 "metadata": {
  "colab": {
   "provenance": []
  },
  "kernelspec": {
   "name": "python3",
   "display_name": "Python 3 (ipykernel)",
   "language": "python"
  },
  "language_info": {
   "name": "python"
  }
 },
 "cells": [
  {
   "cell_type": "markdown",
   "source": [
    "# Feature Engineering for Iris Dataset"
   ],
   "metadata": {
    "id": "X9DbH0NvPaKq"
   }
  },
  {
   "cell_type": "code",
   "metadata": {
    "id": "GILYOAPrOeIb",
    "ExecuteTime": {
     "end_time": "2024-10-10T10:56:39.238201Z",
     "start_time": "2024-10-10T10:56:39.224984Z"
    }
   },
   "source": [
    "import pandas as pd\n",
    "from sklearn.preprocessing import StandardScaler, LabelEncoder, MinMaxScaler\n",
    "from sklearn.decomposition import PCA\n",
    "from sklearn.feature_selection import SelectKBest, chi2, RFE, f_classif\n",
    "from sklearn.ensemble import RandomForestClassifier"
   ],
   "outputs": [],
   "execution_count": 170
  },
  {
   "cell_type": "code",
   "source": [
    "# Load the Iris dataset\n",
    "from sklearn.datasets import load_iris\n",
    "\n",
    "iris = load_iris()\n",
    "data = pd.DataFrame(data=iris.data, columns=iris.feature_names)\n",
    "data['target'] = iris.target\n",
    "\n",
    "# Display the first few rows of the dataset\n",
    "data.head()"
   ],
   "metadata": {
    "id": "oDniasnQPgry",
    "ExecuteTime": {
     "end_time": "2024-10-10T10:56:39.299599Z",
     "start_time": "2024-10-10T10:56:39.250217Z"
    }
   },
   "outputs": [
    {
     "data": {
      "text/plain": [
       "   sepal length (cm)  sepal width (cm)  petal length (cm)  petal width (cm)  \\\n",
       "0                5.1               3.5                1.4               0.2   \n",
       "1                4.9               3.0                1.4               0.2   \n",
       "2                4.7               3.2                1.3               0.2   \n",
       "3                4.6               3.1                1.5               0.2   \n",
       "4                5.0               3.6                1.4               0.2   \n",
       "\n",
       "   target  \n",
       "0       0  \n",
       "1       0  \n",
       "2       0  \n",
       "3       0  \n",
       "4       0  "
      ],
      "text/html": [
       "<div>\n",
       "<style scoped>\n",
       "    .dataframe tbody tr th:only-of-type {\n",
       "        vertical-align: middle;\n",
       "    }\n",
       "\n",
       "    .dataframe tbody tr th {\n",
       "        vertical-align: top;\n",
       "    }\n",
       "\n",
       "    .dataframe thead th {\n",
       "        text-align: right;\n",
       "    }\n",
       "</style>\n",
       "<table border=\"1\" class=\"dataframe\">\n",
       "  <thead>\n",
       "    <tr style=\"text-align: right;\">\n",
       "      <th></th>\n",
       "      <th>sepal length (cm)</th>\n",
       "      <th>sepal width (cm)</th>\n",
       "      <th>petal length (cm)</th>\n",
       "      <th>petal width (cm)</th>\n",
       "      <th>target</th>\n",
       "    </tr>\n",
       "  </thead>\n",
       "  <tbody>\n",
       "    <tr>\n",
       "      <th>0</th>\n",
       "      <td>5.1</td>\n",
       "      <td>3.5</td>\n",
       "      <td>1.4</td>\n",
       "      <td>0.2</td>\n",
       "      <td>0</td>\n",
       "    </tr>\n",
       "    <tr>\n",
       "      <th>1</th>\n",
       "      <td>4.9</td>\n",
       "      <td>3.0</td>\n",
       "      <td>1.4</td>\n",
       "      <td>0.2</td>\n",
       "      <td>0</td>\n",
       "    </tr>\n",
       "    <tr>\n",
       "      <th>2</th>\n",
       "      <td>4.7</td>\n",
       "      <td>3.2</td>\n",
       "      <td>1.3</td>\n",
       "      <td>0.2</td>\n",
       "      <td>0</td>\n",
       "    </tr>\n",
       "    <tr>\n",
       "      <th>3</th>\n",
       "      <td>4.6</td>\n",
       "      <td>3.1</td>\n",
       "      <td>1.5</td>\n",
       "      <td>0.2</td>\n",
       "      <td>0</td>\n",
       "    </tr>\n",
       "    <tr>\n",
       "      <th>4</th>\n",
       "      <td>5.0</td>\n",
       "      <td>3.6</td>\n",
       "      <td>1.4</td>\n",
       "      <td>0.2</td>\n",
       "      <td>0</td>\n",
       "    </tr>\n",
       "  </tbody>\n",
       "</table>\n",
       "</div>"
      ]
     },
     "execution_count": 171,
     "metadata": {},
     "output_type": "execute_result"
    }
   ],
   "execution_count": 171
  },
  {
   "cell_type": "markdown",
   "source": [
    "# Data Preprocessing"
   ],
   "metadata": {
    "id": "MMJ6ipVcPm0I"
   }
  },
  {
   "cell_type": "code",
   "source": [
    "# Check for missing values\n",
    "data.isnull().sum()"
   ],
   "metadata": {
    "id": "MfO1Dp57PkW2",
    "ExecuteTime": {
     "end_time": "2024-10-10T10:56:39.331980Z",
     "start_time": "2024-10-10T10:56:39.314614Z"
    }
   },
   "outputs": [
    {
     "data": {
      "text/plain": [
       "sepal length (cm)    0\n",
       "sepal width (cm)     0\n",
       "petal length (cm)    0\n",
       "petal width (cm)     0\n",
       "target               0\n",
       "dtype: int64"
      ]
     },
     "execution_count": 172,
     "metadata": {},
     "output_type": "execute_result"
    }
   ],
   "execution_count": 172
  },
  {
   "cell_type": "code",
   "source": [
    "# Encoding the target variable\n",
    "label_encoder = LabelEncoder()  # TODO: Use LabelEncoder from sklearn to encode the target variable into numerical format.\n",
    "data['target'] = label_encoder.fit_transform(data['target'])"
   ],
   "metadata": {
    "id": "1Yyvm7fDPsfy",
    "ExecuteTime": {
     "end_time": "2024-10-10T10:56:40.213460Z",
     "start_time": "2024-10-10T10:56:40.207440Z"
    }
   },
   "outputs": [],
   "execution_count": 173
  },
  {
   "cell_type": "markdown",
   "source": [
    "# Feature Engineering"
   ],
   "metadata": {
    "id": "PH6Vx6gBPx08"
   }
  },
  {
   "cell_type": "code",
   "source": [
    "# Example: Creating a new feature from existing ones\n",
    "#area = width * length\n",
    "data['sepal_area'] = data['sepal length (cm)'] * data['sepal width (cm)']\n",
    "data['petal_area'] = data['petal length (cm)'] * data['petal width (cm)']\n",
    "target = data.target\n",
    "data = data.drop(\"target\", axis=1)"
   ],
   "metadata": {
    "id": "Hem_LXnKPz61",
    "ExecuteTime": {
     "end_time": "2024-10-10T10:56:40.882038Z",
     "start_time": "2024-10-10T10:56:40.873402Z"
    }
   },
   "outputs": [],
   "execution_count": 174
  },
  {
   "cell_type": "code",
   "source": [
    "# Standardizing numerical features\n",
    "scaler = StandardScaler()  # TODO: Import the StandardScaler from sklearn.preprocessing.\n",
    "# This scaler will be used to standardize (normalize) the numerical columns\n",
    "# so that they have a mean of 0 and a standard deviation of 1.\n",
    "\n",
    "# TODO: Select the numerical columns (those with int64 and float64 data types)\n",
    "# from the dataset. These are the columns you need to standardize.\n",
    "numerical_cols = data.select_dtypes(include=[\"int64\", \"float64\"]).columns\n",
    "\n",
    "# TODO: Fit the StandardScaler on the selected numerical columns (.fit_transform)\n",
    "# and transform the data. Ensure that you replace the original numerical columns\n",
    "# in the dataset with their standardized versions.\n",
    "data[numerical_cols] = scaler.fit_transform(data[numerical_cols])"
   ],
   "metadata": {
    "id": "somnHaOEP7Cj",
    "ExecuteTime": {
     "end_time": "2024-10-10T10:56:40.984048Z",
     "start_time": "2024-10-10T10:56:40.972243Z"
    }
   },
   "outputs": [],
   "execution_count": 175
  },
  {
   "cell_type": "code",
   "source": [
    "# Applying PCA\n",
    "# TODO: Initialize PCA with 3 components (n_components=3), which means you\n",
    "# want to reduce the dataset into 3 principal components.\n",
    "pca = PCA(n_components=3)\n",
    "\n",
    "# TODO: Fit PCA on the standardized numerical columns and transform the data.\n",
    "# This will produce the new PCA features.\n",
    "data_pca = pca.fit_transform(data[numerical_cols])\n",
    "data['pca1'] = data_pca[:, 0]\n",
    "data['pca2'] = data_pca[:, 1]\n",
    "data['pca3'] = data_pca[:, 2]\n",
    "\n",
    "# Adding PCA components to the dataframe\n",
    "# TODO: Add the 3 PCA components (pca1, pca2, and pca3) to the original dataset\n",
    "# as new columns. These will now be part of the dataset for further analysis.\n",
    "# data_pca_scaled = scaler.fit_transform(data_pca)\n",
    "# data['pca1'] = data_pca_scaled[:, 0]\n",
    "# data['pca2'] = data_pca_scaled[:, 1]\n",
    "# data['pca3'] = data_pca_scaled[:, 2]"
   ],
   "metadata": {
    "id": "hUMhH5VeP8Mf",
    "ExecuteTime": {
     "end_time": "2024-10-10T10:56:41.282009Z",
     "start_time": "2024-10-10T10:56:41.270823Z"
    }
   },
   "outputs": [],
   "execution_count": 176
  },
  {
   "cell_type": "code",
   "source": [
    "# SelectKBest\n",
    "# SelectKBest will be used to select the best features based on statistical tests.\n",
    "# TODO: Separate the features (X) and the target (y) from the dataset.\n",
    "# X should contain all the features except the target column, while y contains the target values.\n",
    "y = target\n",
    "X = data\n",
    "\n",
    "# Using chi2 for feature selection\n",
    "# TODO: Initialize SelectKBest with chi2 as the scoring function and choose the top 4 features (k=4).\n",
    "select_k_best = SelectKBest(f_classif, k=4)\n",
    "\n",
    "X_new = select_k_best.fit_transform(X, y)"
   ],
   "metadata": {
    "id": "Gh933vvHQEjZ",
    "ExecuteTime": {
     "end_time": "2024-10-10T10:56:41.407488Z",
     "start_time": "2024-10-10T10:56:41.393938Z"
    }
   },
   "outputs": [],
   "execution_count": 177
  },
  {
   "cell_type": "code",
   "source": [
    "# Using RFE with a RandomForestClassifier\n",
    "model = RandomForestClassifier()\n",
    "rfe = RFE(model, n_features_to_select=4)\n",
    "fit = rfe.fit(X, y)\n",
    "\n",
    "# Displaying the selected features\n",
    "selected_features = X.columns[fit.support_]\n",
    "print(selected_features)\n",
    "data[\"target\"] = y"
   ],
   "metadata": {
    "id": "Vh2PEgUJQGwH",
    "ExecuteTime": {
     "end_time": "2024-10-10T10:56:42.819552Z",
     "start_time": "2024-10-10T10:56:41.560447Z"
    }
   },
   "outputs": [
    {
     "name": "stdout",
     "output_type": "stream",
     "text": [
      "Index(['petal length (cm)', 'petal width (cm)', 'petal_area', 'pca1'], dtype='object')\n"
     ]
    }
   ],
   "execution_count": 178
  },
  {
   "cell_type": "markdown",
   "source": [
    "#Forward Feature Selection"
   ],
   "metadata": {
    "id": "GpXbzwsZhJAk"
   }
  },
  {
   "cell_type": "code",
   "source": [
    "#Import necessary libraries\n",
    "import numpy as np\n",
    "import pandas as pd\n",
    "from sklearn.datasets import load_iris\n",
    "from sklearn.linear_model import LogisticRegression\n",
    "from sklearn.model_selection import train_test_split\n",
    "from sklearn.preprocessing import StandardScaler\n",
    "from sklearn.metrics import accuracy_score\n",
    "from mlxtend.feature_selection import SequentialFeatureSelector as SFS\n",
    "import seaborn as sns\n",
    "import matplotlib.pyplot as plt\n",
    "%matplotlib inline\n",
    "from sklearn.ensemble import RandomForestRegressor, RandomForestClassifier\n",
    "from sklearn.metrics import roc_auc_score\n",
    "\n",
    "# Load the Iris dataset\n",
    "data = load_iris()\n",
    "data.keys()\n"
   ],
   "metadata": {
    "colab": {
     "base_uri": "https://localhost:8080/"
    },
    "id": "qkHr_c3fpkM5",
    "outputId": "79dfdbd6-bd3c-4ced-e293-066c96462749",
    "ExecuteTime": {
     "end_time": "2024-10-10T10:56:42.840263Z",
     "start_time": "2024-10-10T10:56:42.822565Z"
    }
   },
   "outputs": [
    {
     "data": {
      "text/plain": [
       "dict_keys(['data', 'target', 'frame', 'target_names', 'DESCR', 'feature_names', 'filename', 'data_module'])"
      ]
     },
     "execution_count": 179,
     "metadata": {},
     "output_type": "execute_result"
    }
   ],
   "execution_count": 179
  },
  {
   "cell_type": "code",
   "source": [
    "#Let's create a dataframe\n",
    "X = pd.DataFrame(data.data)\n",
    "y = data.target\n"
   ],
   "metadata": {
    "id": "XB6DZYe8sTmi",
    "ExecuteTime": {
     "end_time": "2024-10-10T10:56:42.853160Z",
     "start_time": "2024-10-10T10:56:42.843276Z"
    }
   },
   "outputs": [],
   "execution_count": 180
  },
  {
   "cell_type": "code",
   "source": [
    "X.columns = data.feature_names\n",
    "X.head()\n"
   ],
   "metadata": {
    "colab": {
     "base_uri": "https://localhost:8080/",
     "height": 204
    },
    "id": "dRbOqtgNsl2j",
    "outputId": "9d9cd044-5877-4507-b952-5968455f1562",
    "ExecuteTime": {
     "end_time": "2024-10-10T10:56:42.872418Z",
     "start_time": "2024-10-10T10:56:42.856173Z"
    }
   },
   "outputs": [
    {
     "data": {
      "text/plain": [
       "   sepal length (cm)  sepal width (cm)  petal length (cm)  petal width (cm)\n",
       "0                5.1               3.5                1.4               0.2\n",
       "1                4.9               3.0                1.4               0.2\n",
       "2                4.7               3.2                1.3               0.2\n",
       "3                4.6               3.1                1.5               0.2\n",
       "4                5.0               3.6                1.4               0.2"
      ],
      "text/html": [
       "<div>\n",
       "<style scoped>\n",
       "    .dataframe tbody tr th:only-of-type {\n",
       "        vertical-align: middle;\n",
       "    }\n",
       "\n",
       "    .dataframe tbody tr th {\n",
       "        vertical-align: top;\n",
       "    }\n",
       "\n",
       "    .dataframe thead th {\n",
       "        text-align: right;\n",
       "    }\n",
       "</style>\n",
       "<table border=\"1\" class=\"dataframe\">\n",
       "  <thead>\n",
       "    <tr style=\"text-align: right;\">\n",
       "      <th></th>\n",
       "      <th>sepal length (cm)</th>\n",
       "      <th>sepal width (cm)</th>\n",
       "      <th>petal length (cm)</th>\n",
       "      <th>petal width (cm)</th>\n",
       "    </tr>\n",
       "  </thead>\n",
       "  <tbody>\n",
       "    <tr>\n",
       "      <th>0</th>\n",
       "      <td>5.1</td>\n",
       "      <td>3.5</td>\n",
       "      <td>1.4</td>\n",
       "      <td>0.2</td>\n",
       "    </tr>\n",
       "    <tr>\n",
       "      <th>1</th>\n",
       "      <td>4.9</td>\n",
       "      <td>3.0</td>\n",
       "      <td>1.4</td>\n",
       "      <td>0.2</td>\n",
       "    </tr>\n",
       "    <tr>\n",
       "      <th>2</th>\n",
       "      <td>4.7</td>\n",
       "      <td>3.2</td>\n",
       "      <td>1.3</td>\n",
       "      <td>0.2</td>\n",
       "    </tr>\n",
       "    <tr>\n",
       "      <th>3</th>\n",
       "      <td>4.6</td>\n",
       "      <td>3.1</td>\n",
       "      <td>1.5</td>\n",
       "      <td>0.2</td>\n",
       "    </tr>\n",
       "    <tr>\n",
       "      <th>4</th>\n",
       "      <td>5.0</td>\n",
       "      <td>3.6</td>\n",
       "      <td>1.4</td>\n",
       "      <td>0.2</td>\n",
       "    </tr>\n",
       "  </tbody>\n",
       "</table>\n",
       "</div>"
      ]
     },
     "execution_count": 181,
     "metadata": {},
     "output_type": "execute_result"
    }
   ],
   "execution_count": 181
  },
  {
   "cell_type": "code",
   "source": [
    "X_train, X_test, y_train, y_test = train_test_split(X, y, test_size=0.2, random_state=0)\n",
    "X_train.shape, X_test.shape"
   ],
   "metadata": {
    "colab": {
     "base_uri": "https://localhost:8080/"
    },
    "id": "tE4stDj2snag",
    "outputId": "0c441d32-7b6e-48de-a22e-5514c1cbf86d",
    "ExecuteTime": {
     "end_time": "2024-10-10T10:56:42.887018Z",
     "start_time": "2024-10-10T10:56:42.874429Z"
    }
   },
   "outputs": [
    {
     "data": {
      "text/plain": [
       "((120, 4), (30, 4))"
      ]
     },
     "execution_count": 182,
     "metadata": {},
     "output_type": "execute_result"
    }
   ],
   "execution_count": 182
  },
  {
   "cell_type": "code",
   "source": [
    "X.isnull().sum()"
   ],
   "metadata": {
    "colab": {
     "base_uri": "https://localhost:8080/",
     "height": 207
    },
    "id": "i_bI-feYr0KC",
    "outputId": "f5c9232d-6ea7-4595-a55a-ec9cb4193241",
    "ExecuteTime": {
     "end_time": "2024-10-10T10:56:42.899632Z",
     "start_time": "2024-10-10T10:56:42.889029Z"
    }
   },
   "outputs": [
    {
     "data": {
      "text/plain": [
       "sepal length (cm)    0\n",
       "sepal width (cm)     0\n",
       "petal length (cm)    0\n",
       "petal width (cm)     0\n",
       "dtype: int64"
      ]
     },
     "execution_count": 183,
     "metadata": {},
     "output_type": "execute_result"
    }
   ],
   "execution_count": 183
  },
  {
   "cell_type": "code",
   "source": [
    "sfs = SFS(RandomForestClassifier(n_estimators=100, random_state=0, n_jobs=-1),\n",
    "          k_features=4,\n",
    "          forward=True,\n",
    "          floating=False,\n",
    "          verbose=2,\n",
    "          scoring='accuracy',\n",
    "          cv=5,\n",
    "          n_jobs=-1\n",
    "          ).fit(X_train, y_train)\n",
    "\n"
   ],
   "metadata": {
    "colab": {
     "base_uri": "https://localhost:8080/"
    },
    "id": "ankMFN1Ps8_X",
    "outputId": "aceb7c9a-1277-4615-d437-e216e91c0f98",
    "ExecuteTime": {
     "end_time": "2024-10-10T10:56:50.844721Z",
     "start_time": "2024-10-10T10:56:42.902640Z"
    }
   },
   "outputs": [
    {
     "name": "stderr",
     "output_type": "stream",
     "text": [
      "[Parallel(n_jobs=-1)]: Using backend LokyBackend with 8 concurrent workers.\n",
      "[Parallel(n_jobs=-1)]: Done   4 out of   4 | elapsed:    2.2s finished\n",
      "\n",
      "[2024-10-10 19:56:45] Features: 1/4 -- score: 0.95[Parallel(n_jobs=-1)]: Using backend LokyBackend with 8 concurrent workers.\n",
      "[Parallel(n_jobs=-1)]: Done   3 out of   3 | elapsed:    1.9s finished\n",
      "\n",
      "[2024-10-10 19:56:47] Features: 2/4 -- score: 0.9333333333333333[Parallel(n_jobs=-1)]: Using backend LokyBackend with 8 concurrent workers.\n",
      "[Parallel(n_jobs=-1)]: Done   2 out of   2 | elapsed:    2.2s finished\n",
      "\n",
      "[2024-10-10 19:56:49] Features: 3/4 -- score: 0.9333333333333332[Parallel(n_jobs=-1)]: Using backend LokyBackend with 8 concurrent workers.\n",
      "\n",
      "[2024-10-10 19:56:50] Features: 4/4 -- score: 0.925"
     ]
    }
   ],
   "execution_count": 184
  },
  {
   "cell_type": "code",
   "source": [
    "sfs.k_feature_names_"
   ],
   "metadata": {
    "colab": {
     "base_uri": "https://localhost:8080/"
    },
    "id": "XSNLBq42taQK",
    "outputId": "edbbfa20-03d5-4c3e-d11e-14e5f88e304c",
    "ExecuteTime": {
     "end_time": "2024-10-10T10:56:50.853026Z",
     "start_time": "2024-10-10T10:56:50.845733Z"
    }
   },
   "outputs": [
    {
     "data": {
      "text/plain": [
       "('sepal length (cm)',\n",
       " 'sepal width (cm)',\n",
       " 'petal length (cm)',\n",
       " 'petal width (cm)')"
      ]
     },
     "execution_count": 185,
     "metadata": {},
     "output_type": "execute_result"
    }
   ],
   "execution_count": 185
  },
  {
   "cell_type": "code",
   "source": [
    "sfs.k_feature_idx_"
   ],
   "metadata": {
    "colab": {
     "base_uri": "https://localhost:8080/"
    },
    "id": "34ewDDS7tcgE",
    "outputId": "e4e12e5d-f809-4836-c7a2-76dac1be8286",
    "ExecuteTime": {
     "end_time": "2024-10-10T10:56:50.871353Z",
     "start_time": "2024-10-10T10:56:50.854974Z"
    }
   },
   "outputs": [
    {
     "data": {
      "text/plain": [
       "(0, 1, 2, 3)"
      ]
     },
     "execution_count": 186,
     "metadata": {},
     "output_type": "execute_result"
    }
   ],
   "execution_count": 186
  },
  {
   "cell_type": "code",
   "source": [
    "sfs.k_score_"
   ],
   "metadata": {
    "colab": {
     "base_uri": "https://localhost:8080/"
    },
    "id": "lD1SlaGGtgbo",
    "outputId": "d43093e1-5e73-4efe-d73c-342627b47c69",
    "ExecuteTime": {
     "end_time": "2024-10-10T10:56:50.880761Z",
     "start_time": "2024-10-10T10:56:50.875361Z"
    }
   },
   "outputs": [
    {
     "data": {
      "text/plain": [
       "0.925"
      ]
     },
     "execution_count": 187,
     "metadata": {},
     "output_type": "execute_result"
    }
   ],
   "execution_count": 187
  },
  {
   "cell_type": "markdown",
   "source": [
    "#Backward Feature Selection"
   ],
   "metadata": {
    "id": "Jpe8dS4qhNMR"
   }
  },
  {
   "cell_type": "code",
   "source": [
    "sfs = SFS(RandomForestClassifier(n_estimators=100, random_state=0, n_jobs=-1),\n",
    "          k_features=(1, 4),\n",
    "          forward=False,\n",
    "          floating=False,\n",
    "          verbose=2,\n",
    "          scoring='accuracy',\n",
    "          cv=5,\n",
    "          n_jobs=-1\n",
    "          ).fit(X_train, y_train)"
   ],
   "metadata": {
    "colab": {
     "base_uri": "https://localhost:8080/"
    },
    "id": "CF4SHRxwtpCW",
    "outputId": "b05decf0-e59c-4c4e-b019-e543ca5bc847",
    "ExecuteTime": {
     "end_time": "2024-10-10T10:56:56.050400Z",
     "start_time": "2024-10-10T10:56:50.882784Z"
    }
   },
   "outputs": [
    {
     "name": "stderr",
     "output_type": "stream",
     "text": [
      "C:\\Users\\Jathavaan Shankarr\\Code\\NTNU\\ai-programming\\venv\\Lib\\site-packages\\sklearn\\model_selection\\_validation.py:73: FutureWarning: `fit_params` is deprecated and will be removed in version 1.6. Pass parameters via `params` instead.\n",
      "  warnings.warn(\n",
      "[Parallel(n_jobs=-1)]: Using backend LokyBackend with 8 concurrent workers.\n",
      "[Parallel(n_jobs=-1)]: Done   4 out of   4 | elapsed:    1.3s finished\n",
      "\n",
      "[2024-10-10 19:56:53] Features: 3/1 -- score: 0.9416666666666667[Parallel(n_jobs=-1)]: Using backend LokyBackend with 8 concurrent workers.\n",
      "[Parallel(n_jobs=-1)]: Done   3 out of   3 | elapsed:    1.4s finished\n",
      "\n",
      "[2024-10-10 19:56:54] Features: 2/1 -- score: 0.9416666666666668[Parallel(n_jobs=-1)]: Using backend LokyBackend with 8 concurrent workers.\n",
      "[Parallel(n_jobs=-1)]: Done   2 out of   2 | elapsed:    1.1s finished\n",
      "\n",
      "[2024-10-10 19:56:56] Features: 1/1 -- score: 0.925"
     ]
    }
   ],
   "execution_count": 188
  },
  {
   "cell_type": "code",
   "source": [
    "sbs = sfs\n",
    "sbs.k_score_"
   ],
   "metadata": {
    "colab": {
     "base_uri": "https://localhost:8080/"
    },
    "id": "Dz0NOFb0t7pC",
    "outputId": "8888eb25-4f23-4014-eb82-7eed245f461d",
    "ExecuteTime": {
     "end_time": "2024-10-10T10:56:56.060146Z",
     "start_time": "2024-10-10T10:56:56.052957Z"
    }
   },
   "outputs": [
    {
     "data": {
      "text/plain": [
       "0.9416666666666668"
      ]
     },
     "execution_count": 189,
     "metadata": {},
     "output_type": "execute_result"
    }
   ],
   "execution_count": 189
  },
  {
   "cell_type": "code",
   "source": [
    "sbs.k_feature_names_\n",
    "\n",
    "# check out this accuracy from above warning\n",
    "# this 8 features may be change to another feature count"
   ],
   "metadata": {
    "colab": {
     "base_uri": "https://localhost:8080/"
    },
    "id": "8oJtp_EnuAC-",
    "outputId": "9beecdba-ac90-4fbc-baaa-b555f6358545",
    "ExecuteTime": {
     "end_time": "2024-10-10T10:56:56.070368Z",
     "start_time": "2024-10-10T10:56:56.061156Z"
    }
   },
   "outputs": [
    {
     "data": {
      "text/plain": [
       "('sepal width (cm)', 'petal length (cm)')"
      ]
     },
     "execution_count": 190,
     "metadata": {},
     "output_type": "execute_result"
    }
   ],
   "execution_count": 190
  },
  {
   "cell_type": "markdown",
   "source": [
    "#Exhaustive Feature Selection (EFS)"
   ],
   "metadata": {
    "id": "rRl_GLvYhRG4"
   }
  },
  {
   "cell_type": "code",
   "source": [
    "from mlxtend.feature_selection import ExhaustiveFeatureSelector as EFS"
   ],
   "metadata": {
    "id": "RabUKUiGuJNT",
    "ExecuteTime": {
     "end_time": "2024-10-10T10:56:56.078Z",
     "start_time": "2024-10-10T10:56:56.072378Z"
    }
   },
   "outputs": [],
   "execution_count": 191
  },
  {
   "cell_type": "code",
   "source": [
    "efs = EFS(RandomForestClassifier(n_estimators=100, random_state=0, n_jobs=-1),\n",
    "          min_features=3,\n",
    "          max_features=4,\n",
    "          scoring='accuracy',\n",
    "          cv=None,\n",
    "          n_jobs=-1\n",
    "          ).fit(X_train, y_train)"
   ],
   "metadata": {
    "colab": {
     "base_uri": "https://localhost:8080/"
    },
    "id": "ap93pN4xuLeG",
    "outputId": "f4c03b53-b357-419e-a374-bb4845b0a866",
    "ExecuteTime": {
     "end_time": "2024-10-10T10:56:56.475130Z",
     "start_time": "2024-10-10T10:56:56.080011Z"
    }
   },
   "outputs": [
    {
     "name": "stderr",
     "output_type": "stream",
     "text": [
      "Features: 5/5"
     ]
    }
   ],
   "execution_count": 192
  },
  {
   "cell_type": "code",
   "source": [
    "efs.best_score_"
   ],
   "metadata": {
    "colab": {
     "base_uri": "https://localhost:8080/"
    },
    "id": "WsYqE8T2ujaR",
    "outputId": "925bc481-8bbc-495e-b1df-ceefe28d0a69",
    "ExecuteTime": {
     "end_time": "2024-10-10T10:56:56.484239Z",
     "start_time": "2024-10-10T10:56:56.476138Z"
    }
   },
   "outputs": [
    {
     "data": {
      "text/plain": [
       "1.0"
      ]
     },
     "execution_count": 193,
     "metadata": {},
     "output_type": "execute_result"
    }
   ],
   "execution_count": 193
  },
  {
   "cell_type": "code",
   "source": [
    "efs.best_feature_names_"
   ],
   "metadata": {
    "colab": {
     "base_uri": "https://localhost:8080/"
    },
    "id": "gwCPJUJZuleX",
    "outputId": "0a1ffa3e-3505-40c9-eae5-e67f847fb1a5",
    "ExecuteTime": {
     "end_time": "2024-10-10T10:56:56.502538Z",
     "start_time": "2024-10-10T10:56:56.485247Z"
    }
   },
   "outputs": [
    {
     "data": {
      "text/plain": [
       "('sepal length (cm)', 'sepal width (cm)', 'petal length (cm)')"
      ]
     },
     "execution_count": 194,
     "metadata": {},
     "output_type": "execute_result"
    }
   ],
   "execution_count": 194
  },
  {
   "cell_type": "code",
   "source": [
    "efs.best_idx_"
   ],
   "metadata": {
    "colab": {
     "base_uri": "https://localhost:8080/"
    },
    "id": "J1DQPYz8unIJ",
    "outputId": "1f891dd0-c06a-4b21-df51-53857a70c9f5",
    "ExecuteTime": {
     "end_time": "2024-10-10T10:56:56.512095Z",
     "start_time": "2024-10-10T10:56:56.504547Z"
    }
   },
   "outputs": [
    {
     "data": {
      "text/plain": [
       "(0, 1, 2)"
      ]
     },
     "execution_count": 195,
     "metadata": {},
     "output_type": "execute_result"
    }
   ],
   "execution_count": 195
  },
  {
   "cell_type": "code",
   "source": [
    "from mlxtend.plotting import plot_sequential_feature_selection as plot_sfs"
   ],
   "metadata": {
    "id": "42YJpA8nuonL",
    "ExecuteTime": {
     "end_time": "2024-10-10T10:56:56.520971Z",
     "start_time": "2024-10-10T10:56:56.515110Z"
    }
   },
   "outputs": [],
   "execution_count": 196
  },
  {
   "cell_type": "code",
   "source": [
    "plot_sfs(efs.get_metric_dict(), kind='std_dev')\n",
    "plt.title('Performance of the EFS algorithm with changing number of features')\n",
    "plt.show()"
   ],
   "metadata": {
    "colab": {
     "base_uri": "https://localhost:8080/",
     "height": 540
    },
    "id": "dlMrj4vnut2J",
    "outputId": "ca7cf6c4-bfe3-4fbf-c955-65aba6f5075d",
    "ExecuteTime": {
     "end_time": "2024-10-10T10:56:56.730961Z",
     "start_time": "2024-10-10T10:56:56.522982Z"
    }
   },
   "outputs": [
    {
     "name": "stderr",
     "output_type": "stream",
     "text": [
      "C:\\Users\\Jathavaan Shankarr\\Code\\NTNU\\ai-programming\\venv\\Lib\\site-packages\\mlxtend\\feature_selection\\exhaustive_feature_selector.py:583: SmallSampleWarning: One or more sample arguments is too small; all returned values will be NaN. See documentation for sample size requirements.\n",
      "  std_err = scipy.stats.sem(ary)\n"
     ]
    },
    {
     "data": {
      "text/plain": [
       "<Figure size 640x480 with 1 Axes>"
      ],
      "image/png": "[encoded data removed]"
     },
     "metadata": {},
     "output_type": "display_data"
    }
   ],
   "execution_count": 197
  },
  {
   "cell_type": "markdown",
   "source": [
    "#Recursive Feature Elimination"
   ],
   "metadata": {
    "id": "YMe_aZnLhw12"
   }
  },
  {
   "cell_type": "code",
   "source": [
    "lr = LogisticRegression(class_weight='balanced', solver='lbfgs', random_state=42, n_jobs=-1, max_iter=500)"
   ],
   "metadata": {
    "id": "F1tACdpuu-4j",
    "ExecuteTime": {
     "end_time": "2024-10-10T10:56:56.740550Z",
     "start_time": "2024-10-10T10:56:56.733974Z"
    }
   },
   "outputs": [],
   "execution_count": 198
  },
  {
   "cell_type": "code",
   "source": [
    "# Import necessary libraries\n",
    "from sklearn.feature_selection import RFE\n",
    "\n",
    "# Create a Recursive Feature Elimination object using a logistic regression model\n",
    "# n_features_to_select=7 specifies the number of features to select\n",
    "rfe = RFE(lr, n_features_to_select=4)\n",
    "\n",
    "# Fit the Recursive Feature Elimination object to the data\n",
    "rfe.fit(X_train, y_train)\n",
    "\n",
    "# Make predictions on the training data using the selected features\n",
    "y_pred = rfe.predict(X_train)"
   ],
   "metadata": {
    "id": "gLv_WTdLpLcG",
    "ExecuteTime": {
     "end_time": "2024-10-10T10:56:56.787586Z",
     "start_time": "2024-10-10T10:56:56.742638Z"
    }
   },
   "outputs": [],
   "execution_count": 199
  },
  {
   "cell_type": "code",
   "source": [
    "y_pred"
   ],
   "metadata": {
    "colab": {
     "base_uri": "https://localhost:8080/"
    },
    "id": "X9H9MwrVvKNW",
    "outputId": "7b763d2e-6c8a-4969-afe3-d67abcbb5dce",
    "ExecuteTime": {
     "end_time": "2024-10-10T10:56:56.797047Z",
     "start_time": "2024-10-10T10:56:56.789599Z"
    }
   },
   "outputs": [
    {
     "data": {
      "text/plain": [
       "array([2, 1, 0, 2, 2, 1, 0, 2, 1, 1, 2, 0, 2, 0, 0, 1, 2, 2, 2, 2, 1, 2,\n",
       "       1, 1, 2, 2, 1, 2, 1, 2, 1, 0, 2, 1, 1, 1, 1, 2, 0, 0, 2, 1, 0, 0,\n",
       "       1, 0, 2, 1, 0, 1, 2, 1, 0, 2, 2, 2, 2, 0, 0, 2, 2, 0, 2, 0, 2, 2,\n",
       "       0, 0, 2, 0, 0, 0, 1, 2, 2, 0, 0, 0, 1, 1, 0, 0, 1, 0, 2, 1, 2, 1,\n",
       "       0, 2, 0, 2, 0, 0, 2, 0, 2, 1, 1, 1, 2, 2, 1, 2, 0, 1, 2, 2, 0, 1,\n",
       "       1, 2, 1, 0, 0, 0, 2, 1, 2, 0])"
      ]
     },
     "execution_count": 200,
     "metadata": {},
     "output_type": "execute_result"
    }
   ],
   "execution_count": 200
  },
  {
   "cell_type": "markdown",
   "source": [
    "# LASSO Regularization (L1)"
   ],
   "metadata": {
    "id": "-t1Xb_jbvRxz"
   }
  },
  {
   "cell_type": "code",
   "source": [
    "from sklearn.linear_model import Ridge\n",
    "from sklearn.linear_model import Lasso\n",
    "\n",
    "from sklearn.metrics import r2_score\n"
   ],
   "metadata": {
    "id": "1OtBG-MvwZWi",
    "ExecuteTime": {
     "end_time": "2024-10-10T10:56:56.806258Z",
     "start_time": "2024-10-10T10:56:56.799056Z"
    }
   },
   "outputs": [],
   "execution_count": 201
  },
  {
   "cell_type": "code",
   "source": [
    "lasso = Lasso(alpha=0.1)\n",
    "lasso.fit(X_train, y_train)\n",
    "for i, col in enumerate(X_train):\n",
    "    print(\"Lasso model coefficients for {} is {}:\".format(col, lasso.coef_[i]))"
   ],
   "metadata": {
    "colab": {
     "base_uri": "https://localhost:8080/"
    },
    "id": "3pCCw41Bvf3q",
    "outputId": "2827d61c-31ac-458d-e020-740b66665915",
    "ExecuteTime": {
     "end_time": "2024-10-10T10:56:56.820505Z",
     "start_time": "2024-10-10T10:56:56.808267Z"
    }
   },
   "outputs": [
    {
     "name": "stdout",
     "output_type": "stream",
     "text": [
      "Lasso model coefficients for sepal length (cm) is 0.0:\n",
      "Lasso model coefficients for sepal width (cm) is -0.0:\n",
      "Lasso model coefficients for petal length (cm) is 0.41364440758519894:\n",
      "Lasso model coefficients for petal width (cm) is 0.0:\n"
     ]
    }
   ],
   "execution_count": 202
  },
  {
   "cell_type": "markdown",
   "source": [
    "# Ridge Model"
   ],
   "metadata": {
    "id": "-9qUf1CewhrG"
   }
  },
  {
   "cell_type": "code",
   "source": [
    "ridge = Ridge(alpha=.3)  #coefficients are prevented to become too big by this alpha value\n",
    "ridge.fit(X_train, y_train)\n",
    "for i, col in enumerate(X_train.columns):\n",
    "    print(\"Ridge model coefficients for {} is {}:\".format(col, ridge.coef_[i]))"
   ],
   "metadata": {
    "colab": {
     "base_uri": "https://localhost:8080/"
    },
    "id": "y3k6lwK0w0M1",
    "outputId": "d8bd214d-a85b-4ff2-efe7-a21d31f35f05",
    "ExecuteTime": {
     "end_time": "2024-10-10T10:56:56.836412Z",
     "start_time": "2024-10-10T10:56:56.822516Z"
    }
   },
   "outputs": [
    {
     "name": "stdout",
     "output_type": "stream",
     "text": [
      "Ridge model coefficients for sepal length (cm) is -0.10828531516630349:\n",
      "Ridge model coefficients for sepal width (cm) is -0.03543230519741787:\n",
      "Ridge model coefficients for petal length (cm) is 0.24427951648704066:\n",
      "Ridge model coefficients for petal width (cm) is 0.5772301178506374:\n"
     ]
    }
   ],
   "execution_count": 203
  },
  {
   "cell_type": "markdown",
   "source": [
    "# Comparing the scores"
   ],
   "metadata": {
    "id": "BWknWVP6w73T"
   }
  },
  {
   "cell_type": "code",
   "source": [
    "print(ridge.score(X_train, y_train))\n",
    "print(ridge.score(X_test, y_test))"
   ],
   "metadata": {
    "colab": {
     "base_uri": "https://localhost:8080/"
    },
    "id": "M6Cpvy1mw7SH",
    "outputId": "f076b343-2141-4a9d-81b3-9ceaf60b4048",
    "ExecuteTime": {
     "end_time": "2024-10-10T10:56:56.849693Z",
     "start_time": "2024-10-10T10:56:56.838425Z"
    }
   },
   "outputs": [
    {
     "name": "stdout",
     "output_type": "stream",
     "text": [
      "0.9339644754462819\n",
      "0.9053239233683795\n"
     ]
    }
   ],
   "execution_count": 204
  },
  {
   "cell_type": "code",
   "source": [
    "print(lasso.score(X_train, y_train))\n",
    "print(lasso.score(X_test, y_test))"
   ],
   "metadata": {
    "id": "OErzNYjvxHGX",
    "outputId": "84147dae-f6dd-4ce5-e1a0-a7c529053ab6",
    "colab": {
     "base_uri": "https://localhost:8080/"
    },
    "ExecuteTime": {
     "end_time": "2024-10-10T10:56:56.869379Z",
     "start_time": "2024-10-10T10:56:56.856703Z"
    }
   },
   "outputs": [
    {
     "name": "stdout",
     "output_type": "stream",
     "text": [
      "0.9034185382976788\n",
      "0.8566563393758283\n"
     ]
    }
   ],
   "execution_count": 205
  }
 ]
}
